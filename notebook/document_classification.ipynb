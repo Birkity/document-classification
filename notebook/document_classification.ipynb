{
 "cells": [
  {
   "cell_type": "markdown",
   "metadata": {},
   "source": [
    "## Load and Explore the Dataset"
   ]
  },
  {
   "cell_type": "code",
   "execution_count": 5,
   "metadata": {},
   "outputs": [
    {
     "name": "stdout",
     "output_type": "stream",
     "text": [
      "Dataset Overview:\n",
      "                                                Text  Label  category\n",
      "0  Budget to set scene for election\\n \\n Gordon B...      0  Politics\n",
      "1  Army chiefs in regiments decision\\n \\n Militar...      0  Politics\n",
      "2  Howard denies split over ID cards\\n \\n Michael...      0  Politics\n",
      "3  Observers to monitor UK election\\n \\n Minister...      0  Politics\n",
      "4  Kilroy names election seat target\\n \\n Ex-chat...      0  Politics\n",
      "\n",
      "Dataset Shape: (2225, 3)\n",
      "\n",
      "Column Names and Data Types:\n",
      "Text        object\n",
      "Label        int64\n",
      "category    object\n",
      "dtype: object\n",
      "\n",
      "Class Distribution:\n",
      "category\n",
      "Sport            511\n",
      "Business         510\n",
      "Politics         417\n",
      "Technology       401\n",
      "Entertainment    386\n",
      "Name: count, dtype: int64\n"
     ]
    }
   ],
   "source": [
    "import pandas as pd\n",
    "import numpy as np\n",
    "\n",
    "# Load the dataset\n",
    "df = pd.read_csv('../data/df_file.csv')  \n",
    "\n",
    "# Map numeric labels to category names\n",
    "label_to_category = {\n",
    "    0: 'Politics',\n",
    "    1: 'Sport',\n",
    "    2: 'Technology',\n",
    "    3: 'Entertainment',\n",
    "    4: 'Business'\n",
    "}\n",
    "\n",
    "# Add a new category called 'Other' for unmatched texts\n",
    "label_to_category[5] = 'Other'\n",
    "\n",
    "# Reverse mapping for category to label (useful for prediction)\n",
    "category_to_label = {v: k for k, v in label_to_category.items()}\n",
    "\n",
    "# Add a new column for category names\n",
    "df['category'] = df['Label'].map(label_to_category)\n",
    "\n",
    "# Display basic info\n",
    "print(\"Dataset Overview:\")\n",
    "print(df.head())\n",
    "\n",
    "print(\"\\nDataset Shape:\", df.shape)\n",
    "print(\"\\nColumn Names and Data Types:\")\n",
    "print(df.dtypes)\n",
    "\n",
    "# Display class distribution with category names\n",
    "print(\"\\nClass Distribution:\")\n",
    "print(df['category'].value_counts())"
   ]
  }
 ],
 "metadata": {
  "kernelspec": {
   "display_name": "venv",
   "language": "python",
   "name": "python3"
  },
  "language_info": {
   "codemirror_mode": {
    "name": "ipython",
    "version": 3
   },
   "file_extension": ".py",
   "mimetype": "text/x-python",
   "name": "python",
   "nbconvert_exporter": "python",
   "pygments_lexer": "ipython3",
   "version": "3.13.1"
  }
 },
 "nbformat": 4,
 "nbformat_minor": 2
}
